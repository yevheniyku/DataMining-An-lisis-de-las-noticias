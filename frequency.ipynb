{
 "cells": [
  {
   "cell_type": "code",
   "execution_count": 14,
   "metadata": {},
   "outputs": [],
   "source": [
    " if (!is.installed(\"tm\")){\n",
    "    install.packages(\"tm\")\n",
    "  }\n",
    "  \n",
    "  if (!is.installed(\"SnowballC\")){\n",
    "    install.packages(\"SnowballC\")\n",
    "  }\n",
    "  \n",
    "  if (!is.installed(\"wordcloud\")){\n",
    "    install.packages(\"wordcloud\")\n",
    "  }\n",
    "  \n",
    "  if (!is.installed(\"ggplot2\")){\n",
    "    install.packages(\"ggplot2\")\n",
    "  }\n",
    "  \n",
    "  if (!is.installed(\"dplyr\")){\n",
    "    install.packages(\"dplyr\")\n",
    "  }\n",
    "  \n",
    "  if (!is.installed(\"readr\")){\n",
    "    install.packages(\"readr\")\n",
    "  }\n",
    "  \n",
    "  if (!is.installed(\"cluster\")){\n",
    "    install.packages(\"cluster\")\n",
    "  }\n",
    "\n",
    "  if (!is.installed(\"XML\")){\n",
    "    install.packages(\"XML\")\n",
    "  }\n",
    "  \n",
    "  # llamamos las librerias necesarias\n",
    "  library(tm)\n",
    "  library(SnowballC)\n",
    "  library(wordcloud)\n",
    "  library(ggplot2)\n",
    "  library(dplyr)\n",
    "  library(readr)\n",
    "  library(cluster)\n",
    "  library(XML)"
   ]
  },
  {
   "cell_type": "code",
   "execution_count": 15,
   "metadata": {},
   "outputs": [],
   "source": [
    " file <- \"./data/elpais1970.xml\"\n"
   ]
  },
  {
   "cell_type": "code",
   "execution_count": 16,
   "metadata": {},
   "outputs": [],
   "source": [
    "getTags <- function(tags){\n",
    "  cont <- 1\n",
    "  tagList <- list(xmlValue(tags[[1]]))\n",
    "\n",
    "  while(cont <= length(tags)){\n",
    "    tagList[[1]][cont] <- xmlValue(tags[[cont]])\n",
    "    cont <- cont + 1\n",
    "  }\n",
    "  return(tagList)\n",
    "}"
   ]
  },
  {
   "cell_type": "code",
   "execution_count": 17,
   "metadata": {},
   "outputs": [],
   "source": [
    "getData <- function(file){\n",
    "  articlesXML = xmlParse(file, encoding = \"Spanish\")\n",
    "  articlesRoot = xmlRoot(articlesXML)\n",
    "  articlesList = xmlChildren(articlesRoot)\n",
    "  cont <- 1\n",
    "  # obtengo todos los datos necesarios de cada articulo\n",
    "  while(cont <= 4){\n",
    "    article <- articlesList[[cont]]\n",
    "    date <- xmlGetAttr(article, name = 'date')\n",
    "    childrenArticle <- xmlChildren(article)\n",
    "    title <- xmlValue(childrenArticle[[1]])\n",
    "    tags <- xmlChildren(childrenArticle[[2]])\n",
    "    tagList <- getTags(tags)\n",
    "    text <- xmlValue(childrenArticle[[3]])\n",
    "    \n",
    "    print(text)\n",
    "    cont <- cont + 1\n",
    "  }\n",
    "  \n",
    "}"
   ]
  },
  {
   "cell_type": "code",
   "execution_count": null,
   "metadata": {},
   "outputs": [],
   "source": []
  }
 ],
 "metadata": {
  "kernelspec": {
   "display_name": "R",
   "language": "R",
   "name": "ir"
  },
  "language_info": {
   "codemirror_mode": "r",
   "file_extension": ".r",
   "mimetype": "text/x-r-source",
   "name": "R",
   "pygments_lexer": "r",
   "version": "3.5.2"
  }
 },
 "nbformat": 4,
 "nbformat_minor": 2
}
